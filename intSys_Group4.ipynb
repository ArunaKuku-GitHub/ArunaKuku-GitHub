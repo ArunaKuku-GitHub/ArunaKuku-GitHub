import numpy as np
import random
import matplotlib.pyplot as plt

# Define the TSP problem parameters
num_cities = 20  # Number of cities
pop_size = 100   # Population size
num_generations = 500  # Number of generations
mutation_rate = 0.01  # Mutation rate

# Generate random cities (coordinates)
cities = np.random.rand(num_cities, 2)

# Calculate distance matrix between cities
def calc_distance_matrix(cities):
    num_cities = len(cities)
    dist_matrix = np.zeros((num_cities, num_cities))
    for i in range(num_cities):
        for j in range(num_cities):
            if i != j:
                dist_matrix[i, j] = np.linalg.norm(cities[i] - cities[j])
    return dist_matrix

# Initialize the population
def initialize_population(pop_size, num_cities):
    population = []
    for _ in range(pop_size):
        individual = list(range(num_cities))
        random.shuffle(individual)
        population.append(individual)
    return population

# Calculate total distance of a route
def calc_total_distance(route, dist_matrix):
    total_distance = 0
    num_cities = len(route)
    for i in range(num_cities):
        j = (i + 1) % num_cities  # Next city in the route
        total_distance += dist_matrix[route[i], route[j]]
    return total_distance

# Perform selection using tournament selection
def tournament_selection(population, fitnesses, tournament_size):
    selected = []
    for _ in range(len(population)):
        tournament_indices = np.random.choice(len(population), tournament_size, replace=False)
        tournament_fitnesses = [fitnesses[i] for i in tournament_indices]
        winner_index = tournament_indices[np.argmin(tournament_fitnesses)]
        selected.append(population[winner_index])
    return selected

# Perform crossover (ordered crossover)
def ordered_crossover(parent1, parent2):
    child = [-1] * len(parent1)
    start, end = sorted(random.sample(range(len(parent1)), 2))
    child[start:end] = parent1[start:end]
    remaining = [item for item in parent2 if item not in child]
    child[:start] = remaining[:start]
    child[end:] = remaining[start:]
    return child

# Perform mutation (swap mutation)
def swap_mutation(individual):
    idx1, idx2 = sorted(random.sample(range(len(individual)), 2))
    individual[idx1], individual[idx2] = individual[idx2], individual[idx1]
    return individual

# Genetic Algorithm main function
def genetic_algorithm(cities, pop_size, num_generations, mutation_rate):
    num_cities = len(cities)
    dist_matrix = calc_distance_matrix(cities)
    population = initialize_population(pop_size, num_cities)
    best_route_history = []
    
    for gen in range(num_generations):
        # Calculate fitness of each individual
        fitnesses = [1 / (calc_total_distance(population[i], dist_matrix) + 1e-10) for i in range(pop_size)]
        best_route = population[np.argmax(fitnesses)]
        best_route_history.append(best_route)
        
        # Perform selection
        selected = tournament_selection(population, fitnesses, tournament_size=5)
        
        # Perform crossover to create offspring
        offspring = []
        for i in range(0, pop_size, 2):
            child1 = ordered_crossover(selected[i], selected[i+1])
            child2 = ordered_crossover(selected[i+1], selected[i])
            offspring.append(child1)
            offspring.append(child2)
        
        # Perform mutation
        for i in range(pop_size):
            if random.random() < mutation_rate:
                offspring[i] = swap_mutation(offspring[i])
        
        # Replace the old population with the offspring
        population = offspring
    
    # Final best route found
    best_route = population[np.argmax(fitnesses)]
    best_distance = calc_total_distance(best_route, dist_matrix)
    
    return best_route, best_distance, best_route_history

# Running the Genetic Algorithm
best_route, best_distance, best_route_history = genetic_algorithm(cities, pop_size, num_generations, mutation_rate)

# Plotting the best route found
plt.figure(figsize=(8, 6))
plt.scatter(cities[:,0], cities[:,1], c='b')
best_route_points = np.append(best_route, best_route[0])
plt.plot(cities[best_route_points, 0], cities[best_route_points, 1], 'r-')
plt.title(f'Best Route Found (Distance: {best_distance:.2f})')
plt.xlabel('X')
plt.ylabel('Y')
plt.show()





































{
  "nbformat": 4,
  "nbformat_minor": 0,
  "metadata": {
    "colab": {
      "provenance": [],
      "authorship_tag": "ABX9TyN5HJ7cH8oZHlR63xflvvmO",
      "include_colab_link": true
    },
    "kernelspec": {
      "name": "python3",
      "display_name": "Python 3"
    },
    "language_info": {
      "name": "python"
    }
  },
  "cells": [
    {
      "cell_type": "markdown",
      "metadata": {
        "id": "view-in-github",
        "colab_type": "text"
      },
      "source": [
        "<a href=\"https://colab.research.google.com/github/ArunaKuku-GitHub/ArunaKuku-GitHub/blob/main/intSys_Group4.ipynb\" target=\"_parent\"><img src=\"https://colab.research.google.com/assets/colab-badge.svg\" alt=\"Open In Colab\"/></a>"
      ]
    },
    {
      "cell_type": "code",
      "execution_count": null,
      "metadata": {
        "id": "q3pk3E1La2rD"
      },
      "outputs": [],
      "source": []
    }
  ]
}
